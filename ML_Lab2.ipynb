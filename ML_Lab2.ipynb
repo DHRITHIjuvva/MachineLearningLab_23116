{
 "cells": [
  {
   "cell_type": "code",
   "execution_count": 15,
   "id": "add916ad-c061-4adf-a284-98fb0e2cf737",
   "metadata": {},
   "outputs": [
    {
     "name": "stdout",
     "output_type": "stream",
     "text": [
      "Dimensionality 3\n",
      "Number of vectors 10\n",
      "Rank of A 3\n",
      "Cost per product [ 1. 55. 18.]\n"
     ]
    }
   ],
   "source": [
    "import pandas as pd\n",
    "import numpy as np\n",
    "from numpy.linalg import pinv, matrix_rank\n",
    "df=pd.read_excel(\"/Users/dhrithijuvva/Downloads/ML/Lab Session Data.xlsx\",sheet_name=\"Purchase data\")\n",
    "df=df[['Candies (#)', 'Mangoes (Kg)', 'Milk Packets (#)', 'Payment (Rs)']].dropna()\n",
    "A=df.iloc[:,:-1].to_numpy()\n",
    "C=df.iloc[:,-1].to_numpy().reshape(-1,1)\n",
    "print(\"Dimensionality\",A.shape[1])\n",
    "print(\"Number of vectors\",A.shape[0])\n",
    "print(\"Rank of A\",matrix_rank(A))\n",
    "X=pinv(A)@C\n",
    "print(\"Cost per product\",X.flatten())"
   ]
  },
  {
   "cell_type": "code",
   "execution_count": 16,
   "id": "5463bd64-dbc7-4ecb-a301-7ea3f5942ebd",
   "metadata": {},
   "outputs": [
    {
     "name": "stdout",
     "output_type": "stream",
     "text": [
      "              precision    recall  f1-score   support\n",
      "\n",
      "        POOR       0.67      1.00      0.80         2\n",
      "        RICH       0.00      0.00      0.00         1\n",
      "\n",
      "    accuracy                           0.67         3\n",
      "   macro avg       0.33      0.50      0.40         3\n",
      "weighted avg       0.44      0.67      0.53         3\n",
      "\n"
     ]
    },
    {
     "name": "stderr",
     "output_type": "stream",
     "text": [
      "/Library/Frameworks/Python.framework/Versions/3.13/lib/python3.13/site-packages/sklearn/metrics/_classification.py:1706: UndefinedMetricWarning: Precision is ill-defined and being set to 0.0 in labels with no predicted samples. Use `zero_division` parameter to control this behavior.\n",
      "  _warn_prf(average, modifier, f\"{metric.capitalize()} is\", result.shape[0])\n",
      "/Library/Frameworks/Python.framework/Versions/3.13/lib/python3.13/site-packages/sklearn/metrics/_classification.py:1706: UndefinedMetricWarning: Precision is ill-defined and being set to 0.0 in labels with no predicted samples. Use `zero_division` parameter to control this behavior.\n",
      "  _warn_prf(average, modifier, f\"{metric.capitalize()} is\", result.shape[0])\n",
      "/Library/Frameworks/Python.framework/Versions/3.13/lib/python3.13/site-packages/sklearn/metrics/_classification.py:1706: UndefinedMetricWarning: Precision is ill-defined and being set to 0.0 in labels with no predicted samples. Use `zero_division` parameter to control this behavior.\n",
      "  _warn_prf(average, modifier, f\"{metric.capitalize()} is\", result.shape[0])\n"
     ]
    }
   ],
   "source": [
    "from sklearn.model_selection import train_test_split\n",
    "from sklearn.ensemble import RandomForestClassifier\n",
    "from sklearn.metrics import classification_report\n",
    "df=pd.read_excel(\"/Users/dhrithijuvva/Downloads/ML/Lab Session Data.xlsx\",sheet_name=\"Purchase data\")\n",
    "df['Class']=df['Payment (Rs)'].apply(lambda x: 'RICH' if x>200 else 'POOR')\n",
    "X=df[['Candies (#)','Mangoes (Kg)','Milk Packets (#)']]\n",
    "Y=df['Class']\n",
    "X_train,X_test,Y_train,Y_test=train_test_split(X,Y,test_size=0.3,random_state=42)\n",
    "model=RandomForestClassifier()\n",
    "model.fit(X_train,Y_train)\n",
    "Y_pred=model.predict(X_test)\n",
    "print(classification_report(Y_test,Y_pred))"
   ]
  },
  {
   "cell_type": "code",
   "execution_count": null,
   "id": "b7e23434-d29e-40dc-8c44-6b8fa7c91808",
   "metadata": {},
   "outputs": [],
   "source": [
    "import statistics\n",
    "df=pd.rad_excel"
   ]
  },
  {
   "cell_type": "raw",
   "id": "ffceaada-7765-42db-b0b0-d5d904c87556",
   "metadata": {},
   "source": []
  }
 ],
 "metadata": {
  "kernelspec": {
   "display_name": "Python 3 (ipykernel)",
   "language": "python",
   "name": "python3"
  },
  "language_info": {
   "codemirror_mode": {
    "name": "ipython",
    "version": 3
   },
   "file_extension": ".py",
   "mimetype": "text/x-python",
   "name": "python",
   "nbconvert_exporter": "python",
   "pygments_lexer": "ipython3",
   "version": "3.13.5"
  }
 },
 "nbformat": 4,
 "nbformat_minor": 5
}
