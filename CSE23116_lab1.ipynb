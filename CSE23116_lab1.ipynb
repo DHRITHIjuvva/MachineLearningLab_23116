{
 "cells": [
  {
   "cell_type": "code",
   "execution_count": 1,
   "id": "eb2afda6-f09c-4820-8b65-faf999b9f4b1",
   "metadata": {},
   "outputs": [
    {
     "name": "stdin",
     "output_type": "stream",
     "text": [
      "Enter a word: Dhrithi\n"
     ]
    },
    {
     "name": "stdout",
     "output_type": "stream",
     "text": [
      "No. of vowels: %d 2\n",
      "No. of consonants: %d 5\n"
     ]
    }
   ],
   "source": [
    "#Question 1\n",
    "def vowcons(a):\n",
    "    b=list(a)\n",
    "    k=0\n",
    "    l=0\n",
    "    for i in range(len(b)):\n",
    "        if b[i] in 'AEIOUaeiou':\n",
    "            k=k+1\n",
    "        else:\n",
    "            l=l+1\n",
    "    return k,l\n",
    "a=input(\"Enter a word:\")\n",
    "k,l=vowcons(a)\n",
    "print(\"No. of vowels: %d\",k)\n",
    "print(\"No. of consonants: %d\",l)\n"
   ]
  },
  {
   "cell_type": "code",
   "execution_count": null,
   "id": "a02ec5f8-afea-4397-a9cb-a6a936ba7092",
   "metadata": {},
   "outputs": [],
   "source": [
    "#Question 2\n",
    "def mul(A,B,m,n,a,b):\n",
    "    if n!=a:\n",
    "        return 0\n",
    "    else:\n",
    "        res=[[0 for j in range(b)] for i in range(m)]\n",
    "    for i in range(m):\n",
    "        for j in range(b):\n",
    "                for l in range(n):\n",
    "                    res[i][j]+=A[i][l]*B[l][j]\n",
    "    return res\n",
    "m=int(input(\"Enter no. of rows in 1st matrix:\"))\n",
    "n=int(input(\"Enter no. of columns in 1st matrix:\"))\n",
    "a=int(input(\"Enter no. of rows in 2nd matrix:\"))\n",
    "b=int(input(\"Enter no. of columns in 2nd matrix:\"))\n",
    "A=[[0 for j in range(n)] for i in range(m)]\n",
    "for i in range(m):\n",
    "    for j in range(n):\n",
    "        A[i][j]=int(input(\"Enter elements in first matrix:\"))\n",
    "B=[[0 for j in range(b)] for i in range(a)]\n",
    "for i in range(a):\n",
    "    for j in range(b):\n",
    "        B[i][j]=int(input(\"Enter elements in second matrix:\"))\n",
    "res=[[0 for j in range(b)] for i in range(m)]\n",
    "res=mul(A,B,m,n,a,b)\n",
    "if res is None:\n",
    "    print(0)\n",
    "else:\n",
    "    for i in range(m):\n",
    "        for j in range(b):\n",
    "            print(res[i][j],end=\" \")\n",
    "        print()\n",
    "\n",
    "\n"
   ]
  },
  {
   "cell_type": "code",
   "execution_count": null,
   "id": "cfd92f28-a28e-4295-9b27-a8697a696759",
   "metadata": {},
   "outputs": [],
   "source": [
    "#Question 3\n",
    "def comm(A,B,a,b):\n",
    "    C=[0 for _ in range(a)]\n",
    "    k=0\n",
    "    for i in range(a):\n",
    "        for j in range(b):\n",
    "            if A[i]==B[j]:\n",
    "                C[k]=B[j]\n",
    "                k=k+1\n",
    "    return C\n",
    "a=int(input(\"Enter the number of elements in first list:\"))\n",
    "b=int(input(\"Enter the number of elements in second list:\"))\n",
    "A=[0 for i in range(a)]\n",
    "for i in range(a):\n",
    "    A[i]=int(input(\"Enter elements in first list:\"))\n",
    "B=[0 for j in range(b)]\n",
    "for j in range(b):\n",
    "    B[j]=int(input(\"Enter elements in second list:\"))\n",
    "if a<b:\n",
    "    C=[0 for _ in range(a)]\n",
    "else:\n",
    "    C=[0 for _ in range(b)]\n",
    "C=comm(A,B,a,b)\n",
    "print(\"Common elements:\")\n",
    "for i in range(len(C)):\n",
    "    print(\"%d\"%C[i])\n"
   ]
  },
  {
   "cell_type": "code",
   "execution_count": null,
   "id": "36fa3c1a-e9a8-47c1-96b8-4b5cfef40b09",
   "metadata": {},
   "outputs": [],
   "source": [
    "#Question 4\n",
    "def trans(A,m,n):\n",
    "    res=[[0 for j in range(m)] for i in range(n)]\n",
    "    for i in range(m):\n",
    "        for j in range(n):\n",
    "            res[i][j]=A[j][i]\n",
    "    return res\n",
    "m=int(input(\"Enter no. of rows in the matrix:\"))\n",
    "n=int(input(\"Enter no. of columns in the matrix:\"))\n",
    "A=[[0 for j in range(n)] for i in range(m)]\n",
    "for i in range(m):\n",
    "    for j in range(n):\n",
    "        A[i][j]=int(input(\"Enter elements in the matrix:\"))\n",
    "res=[[0 for j in range(m)] for i in range(n)]\n",
    "res=trans(A,m,n)\n",
    "for i in range(m):\n",
    "    for j in range(n):\n",
    "        print(\"%d\"%res[i][j],end=\" \")\n",
    "    print()"
   ]
  },
  {
   "cell_type": "code",
   "execution_count": null,
   "id": "195f2abb-660f-48af-a88f-18afad8e1d37",
   "metadata": {},
   "outputs": [],
   "source": [
    "#Question 5\n",
    "import random\n",
    "def fun():    \n",
    "    A=[random.randint(100, 150) for _ in range(100)]\n",
    "    su=0\n",
    "    for i in range(100):\n",
    "        su=su+A[i]\n",
    "    a=su/100\n",
    "    A.sort()\n",
    "    n=len(A)\n",
    "    if n%2==0:\n",
    "        b=(A[n//2-1]+A[n//2])/2\n",
    "    else:\n",
    "        b=A[n//2]\n",
    "    f={}\n",
    "    for i in A:\n",
    "        if i in f:\n",
    "            f[i]+=1\n",
    "        else:\n",
    "            f[i]=1\n",
    "    m=max(f.values())\n",
    "    c=[]\n",
    "    for i in f:\n",
    "        if f[i]==m:\n",
    "            c.append(i)\n",
    "    return a,b,c\n",
    "a,b,c=fun()\n",
    "print(\"Mean: %f\"%a)\n",
    "print(\"Median: %f\"%b)\n",
    "print(\"Mode:\",c)"
   ]
  }
 ],
 "metadata": {
  "kernelspec": {
   "display_name": "Python 3 (ipykernel)",
   "language": "python",
   "name": "python3"
  },
  "language_info": {
   "codemirror_mode": {
    "name": "ipython",
    "version": 3
   },
   "file_extension": ".py",
   "mimetype": "text/x-python",
   "name": "python",
   "nbconvert_exporter": "python",
   "pygments_lexer": "ipython3",
   "version": "3.13.5"
  }
 },
 "nbformat": 4,
 "nbformat_minor": 5
}
